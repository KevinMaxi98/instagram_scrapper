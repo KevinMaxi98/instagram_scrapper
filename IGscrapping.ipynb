{
 "cells": [
  {
   "cell_type": "markdown",
   "source": [
    "## Proyecto para extraer comentarios de un post IG usando Selenium"
   ],
   "metadata": {
    "collapsed": false,
    "pycharm": {
     "name": "#%% md\n"
    }
   }
  },
  {
   "cell_type": "code",
   "execution_count": 35,
   "metadata": {
    "collapsed": true
   },
   "outputs": [],
   "source": [
    "from selenium import webdriver\n",
    "from selenium.webdriver.common.keys import Keys\n",
    "import time, urllib.request\n",
    "import pandas as pd\n",
    "import requests\n",
    "import datetime"
   ]
  },
  {
   "cell_type": "markdown",
   "source": [
    "### Cambiar por la dirección en donde se encuentre almacenado el driver(el del proyecto es de linux)\n",
    "[Link de descarga](https://chromedriver.chromium.org/)"
   ],
   "metadata": {
    "collapsed": false,
    "pycharm": {
     "name": "#%% md\n"
    }
   }
  },
  {
   "cell_type": "code",
   "execution_count": 36,
   "outputs": [],
   "source": [
    "PATH = r\"/home/kevinmaxi/PycharmProjects/instagramScrapping/drivers/chromedriver\"\n",
    "driver = webdriver.Chrome(PATH)\n",
    "\n",
    "driver.get(\"https://www.instagram.com/\")\n"
   ],
   "metadata": {
    "collapsed": false,
    "pycharm": {
     "name": "#%%\n"
    }
   }
  },
  {
   "cell_type": "markdown",
   "source": [
    "### Cambiar por los datos de inicio de sesión de una cuenta de IG (de preferencia una secundaria, por posibles baneos)"
   ],
   "metadata": {
    "collapsed": false,
    "pycharm": {
     "name": "#%% md\n"
    }
   }
  },
  {
   "cell_type": "code",
   "execution_count": null,
   "outputs": [],
   "source": [
    "username = \"nombreDeUsuario\"\n",
    "password = \"contraseña\"\n",
    "postURL = \"https://www.instagram.com/p/B166OkVBPJR/\""
   ],
   "metadata": {
    "collapsed": false,
    "pycharm": {
     "name": "#%%\n"
    }
   }
  },
  {
   "cell_type": "markdown",
   "source": [
    "### Inicio de sesión"
   ],
   "metadata": {
    "collapsed": false,
    "pycharm": {
     "name": "#%% md\n"
    }
   }
  },
  {
   "cell_type": "code",
   "execution_count": 37,
   "outputs": [],
   "source": [
    "time.sleep(5)\n",
    "username=driver.find_element_by_css_selector(\"input[name='username']\")\n",
    "password=driver.find_element_by_css_selector(\"input[name='password']\")\n",
    "username.clear()\n",
    "password.clear()\n",
    "username.send_keys(username)\n",
    "password.send_keys(password)\n",
    "login = driver.find_element_by_css_selector(\"button[type='submit']\").click()\n",
    "time.sleep(10)\n",
    "notnow = driver.find_element_by_xpath(\"//button[contains(text(), 'Not Now')]\").click()\n",
    "#turn on notif\n",
    "time.sleep(10)\n",
    "notnow2 = driver.find_element_by_xpath(\"//button[contains(text(), 'Not Now')]\").click()\n"
   ],
   "metadata": {
    "collapsed": false,
    "pycharm": {
     "name": "#%%\n"
    }
   }
  },
  {
   "cell_type": "markdown",
   "source": [
    "### Proceso de extracción\n",
    "Los timers son puestos para evitar el baneo del scrapper"
   ],
   "metadata": {
    "collapsed": false,
    "pycharm": {
     "name": "#%% md\n"
    }
   }
  },
  {
   "cell_type": "code",
   "execution_count": 38,
   "outputs": [],
   "source": [
    "time.sleep(5)\n",
    "driver.get(postURL)\n"
   ],
   "metadata": {
    "collapsed": false,
    "pycharm": {
     "name": "#%%\n"
    }
   }
  },
  {
   "cell_type": "markdown",
   "source": [
    "### Al parecer hay un error al sobrecargar la página y se recibe como que no existe el botón para seguir expandiendo los comentarios\n",
    "### para solucionarlo se usa la diferencia de tiempo que hay entre el error de no encontar el elemento y el de la última ejeución, si el el tiempo lo excede quiere decir que no hay forma de obtener mas comentarios y el bucle para"
   ],
   "metadata": {
    "collapsed": false,
    "pycharm": {
     "name": "#%% md\n"
    }
   }
  },
  {
   "cell_type": "code",
   "execution_count": 39,
   "outputs": [
    {
     "name": "stdout",
     "output_type": "stream",
     "text": [
      "0:01:59.038028\n",
      "False\n",
      "Message: no such element: Unable to locate element: {\"method\":\"css selector\",\"selector\":\".MGdpg > button:nth-child(1)\"}\n",
      "  (Session info: chrome=93.0.4577.82)\n",
      "\n",
      "0:00:24.893726\n",
      "False\n",
      "Message: no such element: Unable to locate element: {\"method\":\"css selector\",\"selector\":\".MGdpg > button:nth-child(1)\"}\n",
      "  (Session info: chrome=93.0.4577.82)\n",
      "\n",
      "0:00:14.072781\n",
      "False\n",
      "Message: no such element: Unable to locate element: {\"method\":\"css selector\",\"selector\":\".MGdpg > button:nth-child(1)\"}\n",
      "  (Session info: chrome=93.0.4577.82)\n",
      "\n",
      "0:00:09.678870\n",
      "False\n",
      "Message: no such element: Unable to locate element: {\"method\":\"css selector\",\"selector\":\".MGdpg > button:nth-child(1)\"}\n",
      "  (Session info: chrome=93.0.4577.82)\n",
      "\n",
      "0:00:28.584918\n",
      "False\n",
      "Message: no such element: Unable to locate element: {\"method\":\"css selector\",\"selector\":\".MGdpg > button:nth-child(1)\"}\n",
      "  (Session info: chrome=93.0.4577.82)\n",
      "\n",
      "0:00:10.112571\n",
      "False\n",
      "Message: no such element: Unable to locate element: {\"method\":\"css selector\",\"selector\":\".MGdpg > button:nth-child(1)\"}\n",
      "  (Session info: chrome=93.0.4577.82)\n",
      "\n",
      "0:00:10.292872\n",
      "False\n",
      "Message: no such element: Unable to locate element: {\"method\":\"css selector\",\"selector\":\".MGdpg > button:nth-child(1)\"}\n",
      "  (Session info: chrome=93.0.4577.82)\n",
      "\n",
      "0:00:10.278995\n",
      "False\n",
      "Message: no such element: Unable to locate element: {\"method\":\"css selector\",\"selector\":\".MGdpg > button:nth-child(1)\"}\n",
      "  (Session info: chrome=93.0.4577.82)\n",
      "\n",
      "0:00:10.589984\n",
      "False\n",
      "Message: no such element: Unable to locate element: {\"method\":\"css selector\",\"selector\":\".MGdpg > button:nth-child(1)\"}\n",
      "  (Session info: chrome=93.0.4577.82)\n",
      "\n",
      "0:00:22.298831\n",
      "False\n",
      "Message: no such element: Unable to locate element: {\"method\":\"css selector\",\"selector\":\".MGdpg > button:nth-child(1)\"}\n",
      "  (Session info: chrome=93.0.4577.82)\n",
      "\n",
      "0:01:00.079600\n",
      "False\n",
      "Message: no such element: Unable to locate element: {\"method\":\"css selector\",\"selector\":\".MGdpg > button:nth-child(1)\"}\n",
      "  (Session info: chrome=93.0.4577.82)\n",
      "\n",
      "0:00:18.533334\n",
      "False\n",
      "Message: no such element: Unable to locate element: {\"method\":\"css selector\",\"selector\":\".MGdpg > button:nth-child(1)\"}\n",
      "  (Session info: chrome=93.0.4577.82)\n",
      "\n",
      "0:00:11.847017\n",
      "False\n",
      "Message: no such element: Unable to locate element: {\"method\":\"css selector\",\"selector\":\".MGdpg > button:nth-child(1)\"}\n",
      "  (Session info: chrome=93.0.4577.82)\n",
      "\n",
      "0:00:35.531131\n",
      "False\n",
      "Message: no such element: Unable to locate element: {\"method\":\"css selector\",\"selector\":\".MGdpg > button:nth-child(1)\"}\n",
      "  (Session info: chrome=93.0.4577.82)\n",
      "\n",
      "0:00:20.141872\n",
      "False\n",
      "Message: no such element: Unable to locate element: {\"method\":\"css selector\",\"selector\":\".MGdpg > button:nth-child(1)\"}\n",
      "  (Session info: chrome=93.0.4577.82)\n",
      "\n",
      "0:00:20.880726\n",
      "False\n",
      "Message: no such element: Unable to locate element: {\"method\":\"css selector\",\"selector\":\".MGdpg > button:nth-child(1)\"}\n",
      "  (Session info: chrome=93.0.4577.82)\n",
      "\n",
      "0:00:26.517431\n",
      "False\n",
      "Message: no such element: Unable to locate element: {\"method\":\"css selector\",\"selector\":\".MGdpg > button:nth-child(1)\"}\n",
      "  (Session info: chrome=93.0.4577.82)\n",
      "\n",
      "0:00:41.484313\n",
      "False\n",
      "Message: no such element: Unable to locate element: {\"method\":\"css selector\",\"selector\":\".MGdpg > button:nth-child(1)\"}\n",
      "  (Session info: chrome=93.0.4577.82)\n",
      "\n",
      "0:00:49.709886\n",
      "False\n",
      "Message: no such element: Unable to locate element: {\"method\":\"css selector\",\"selector\":\".MGdpg > button:nth-child(1)\"}\n",
      "  (Session info: chrome=93.0.4577.82)\n",
      "\n",
      "0:00:17.736625\n",
      "False\n",
      "Message: no such element: Unable to locate element: {\"method\":\"css selector\",\"selector\":\".MGdpg > button:nth-child(1)\"}\n",
      "  (Session info: chrome=93.0.4577.82)\n",
      "\n",
      "-1 day, 23:59:59.985492\n",
      "True\n",
      "Message: no such element: Unable to locate element: {\"method\":\"css selector\",\"selector\":\".MGdpg > button:nth-child(1)\"}\n",
      "  (Session info: chrome=93.0.4577.82)\n",
      "\n"
     ]
    }
   ],
   "source": [
    "time.sleep(3)\n",
    "seguir = True\n",
    "threshold = datetime.timedelta(seconds=7)\n",
    "num_max_fallos=20\n",
    "fallos=0\n",
    "time_fail = datetime.datetime.now()+threshold\n",
    "now = datetime.datetime.now()+5*threshold\n",
    "# print(\"Hola\")\n",
    "while seguir:\n",
    "    # print(\"Ha entrado\")\n",
    "    try:\n",
    "        load_more_comment = driver.find_element_by_css_selector('.MGdpg > button:nth-child(1)')\n",
    "        i = 0\n",
    "        while load_more_comment.is_displayed():\n",
    "            # print(\"Desde aqui\")\n",
    "            load_more_comment.click()\n",
    "            time.sleep(1.5)\n",
    "            now = datetime.datetime.now()\n",
    "            load_more_comment = driver.find_element_by_css_selector('.MGdpg > button:nth-child(1)')\n",
    "\n",
    "            # print(\"Found {}\".format(str(load_more_comment)))\n",
    "            i += 1\n",
    "\n",
    "    except Exception as e:\n",
    "\n",
    "        time_elapsed = now - time_fail\n",
    "        print(time_elapsed)\n",
    "        print(threshold > time_elapsed)\n",
    "        if threshold > time_elapsed:\n",
    "            seguir = False\n",
    "        time_fail = datetime.datetime.now()\n",
    "        time.sleep(5)\n",
    "        print(e)\n",
    "        pass\n"
   ],
   "metadata": {
    "collapsed": false,
    "pycharm": {
     "name": "#%%\n"
    }
   }
  },
  {
   "cell_type": "markdown",
   "source": [
    "### Script para extraer los comentarios y sub-comentarios una vez desplegados todos los comentarios"
   ],
   "metadata": {
    "collapsed": false,
    "pycharm": {
     "name": "#%% md\n"
    }
   }
  },
  {
   "cell_type": "code",
   "execution_count": 40,
   "outputs": [],
   "source": [
    "time.sleep(5)\n",
    "grand_father_id = 'B166OkVBPJR'\n",
    "user_names = []\n",
    "user_comments = []\n",
    "comment_dates = []\n",
    "likes_comment = []\n",
    "child_comment_ids = []\n",
    "father_comment_ids = []\n",
    "post=[]\n",
    "comment_overall = driver.find_elements_by_class_name('Mr508 ')\n",
    "comment_id = 0\n",
    "for c in comment_overall:\n",
    "    comment = c.find_element_by_class_name('gElp9 ')\n",
    "    container = comment.find_element_by_class_name('C4VMK')\n",
    "    name = container.find_element_by_class_name('_6lAjh').text\n",
    "    content = container.find_elements_by_tag_name('span')\n",
    "    data_container = container.find_element_by_class_name('_7UhW9  ')\n",
    "    date = data_container.find_elements_by_class_name('FH9sR')[0].get_attribute('datetime')\n",
    "    likes = data_container.find_elements_by_class_name('FH9sR')[1].text\n",
    "    try:\n",
    "        replies = c.find_element_by_xpath(\"//span[contains(text(), 'View replies')]\").click()\n",
    "\n",
    "    except Exception as e:\n",
    "        pass\n",
    "    try:\n",
    "        subcomments_container = c.find_element_by_tag_name('ul')\n",
    "        subcomment = subcomments_container.find_elements_by_class_name('gElp9 ')\n",
    "        subcomment_id = 0\n",
    "        for i in subcomment:\n",
    "            container = subcomments_container.find_element_by_class_name('C4VMK')\n",
    "            name_subcomment = subcomments_container.find_element_by_class_name('_6lAjh').text\n",
    "            content_subcomment = container.find_elements_by_tag_name('span')\n",
    "            data_container_subcomment = container.find_element_by_class_name('_7UhW9  ')\n",
    "            date_subcomment = data_container_subcomment.find_elements_by_class_name('FH9sR')[0].get_attribute('datetime')\n",
    "            likes_subcomment = data_container_subcomment.find_elements_by_class_name('FH9sR')[1].text\n",
    "            user_names.append(name_subcomment)\n",
    "            user_comments.append(content_subcomment[1].text)\n",
    "            comment_dates.append(date_subcomment)\n",
    "            child_comment_ids.append(subcomment_id)\n",
    "            father_comment_ids.append(comment_id)\n",
    "            post.append(postURL)\n",
    "            if likes_subcomment != 'Reply':\n",
    "                likes_comment.append(likes_subcomment)\n",
    "            else:\n",
    "                likes_comment.append(\"0 likes\")\n",
    "            subcomment_id += 1\n",
    "    except Exception as e:\n",
    "        pass\n",
    "    # content = content.replace('\\n', ' ').strip().rstrip()\n",
    "    post.append(postURL)\n",
    "    user_names.append(name)\n",
    "    user_comments.append(content[1].text)\n",
    "    comment_dates.append(date)\n",
    "    child_comment_ids.append(comment_id)\n",
    "    father_comment_ids.append(grand_father_id)\n",
    "    if likes != 'Reply':\n",
    "        likes_comment.append(likes)\n",
    "    else:\n",
    "        likes_comment.append(\"0 likes\")\n",
    "    comment_id += 1"
   ],
   "metadata": {
    "collapsed": false,
    "pycharm": {
     "name": "#%%\n"
    }
   }
  },
  {
   "cell_type": "code",
   "execution_count": 44,
   "outputs": [
    {
     "name": "stdout",
     "output_type": "stream",
     "text": [
      "                                          Post  \\\n",
      "0     https://www.instagram.com/p/B166OkVBPJR/   \n",
      "1     https://www.instagram.com/p/B166OkVBPJR/   \n",
      "2     https://www.instagram.com/p/B166OkVBPJR/   \n",
      "3     https://www.instagram.com/p/B166OkVBPJR/   \n",
      "4     https://www.instagram.com/p/B166OkVBPJR/   \n",
      "...                                        ...   \n",
      "1151  https://www.instagram.com/p/B166OkVBPJR/   \n",
      "1152  https://www.instagram.com/p/B166OkVBPJR/   \n",
      "1153  https://www.instagram.com/p/B166OkVBPJR/   \n",
      "1154  https://www.instagram.com/p/B166OkVBPJR/   \n",
      "1155  https://www.instagram.com/p/B166OkVBPJR/   \n",
      "\n",
      "                                                Caption  \\\n",
      "0                           @emilenevilasboas get ready   \n",
      "1                                    @levinhonainternet   \n",
      "2                                           @nuray.madi   \n",
      "3     I would literally do that every time Lady and ...   \n",
      "4                                            @joeblan25   \n",
      "...                                                 ...   \n",
      "1151                                                  🙌   \n",
      "1152  I remember the first time my dad did that in h...   \n",
      "1153             The acceleration is really impressive👍   \n",
      "1154                                   I love you TESLA   \n",
      "1155                                           Amazing!   \n",
      "\n",
      "                          Date likesComment IdFatherComment  idChildComment  \\\n",
      "0     2021-04-30T17:53:20.000Z      0 likes               0               0   \n",
      "1     2021-04-30T17:50:42.000Z      0 likes     B166OkVBPJR               0   \n",
      "2     2021-05-09T03:47:25.000Z      0 likes     B166OkVBPJR               1   \n",
      "3     2021-05-10T06:53:02.000Z       1 like     B166OkVBPJR               2   \n",
      "4     2021-05-11T03:50:23.000Z      0 likes     B166OkVBPJR               3   \n",
      "...                        ...          ...             ...             ...   \n",
      "1151  2019-09-02T19:28:02.000Z      0 likes     B166OkVBPJR            1075   \n",
      "1152  2019-09-02T19:28:08.000Z      0 likes     B166OkVBPJR            1076   \n",
      "1153  2019-09-02T19:28:09.000Z      0 likes     B166OkVBPJR            1077   \n",
      "1154  2019-09-02T19:28:12.000Z      0 likes     B166OkVBPJR            1078   \n",
      "1155  2019-09-02T19:28:14.000Z      0 likes     B166OkVBPJR            1079   \n",
      "\n",
      "                  Username  \n",
      "0       bullofwallstreet33  \n",
      "1         emilenevilasboas  \n",
      "2             martinbuzora  \n",
      "3              get_emcoach  \n",
      "4         emily.vanheerden  \n",
      "...                    ...  \n",
      "1151  anime._.in.the.blood  \n",
      "1152  officialgabesmithlol  \n",
      "1153             roman_.96  \n",
      "1154            hakanilci0  \n",
      "1155       oleksandr_zenov  \n",
      "\n",
      "[1156 rows x 7 columns]\n"
     ]
    }
   ],
   "source": [
    "df_ig = pd.DataFrame({'Post': post, 'Caption': user_comments, 'Date': comment_dates, 'likesComment': likes_comment, 'IdFatherComment': father_comment_ids, 'idChildComment': child_comment_ids,'Username': user_names,})\n",
    "print(df_ig)\n",
    "# driver.close()"
   ],
   "metadata": {
    "collapsed": false,
    "pycharm": {
     "name": "#%%\n"
    }
   }
  },
  {
   "cell_type": "code",
   "execution_count": 53,
   "outputs": [],
   "source": [
    "df_ig.to_csv('scrapping.csv', index=False)"
   ],
   "metadata": {
    "collapsed": false,
    "pycharm": {
     "name": "#%%\n"
    }
   }
  },
  {
   "cell_type": "code",
   "execution_count": 46,
   "outputs": [],
   "source": [
    "df_ig.to_excel(\"scrapping.xlsx\")"
   ],
   "metadata": {
    "collapsed": false,
    "pycharm": {
     "name": "#%%\n"
    }
   }
  }
 ],
 "metadata": {
  "kernelspec": {
   "display_name": "Python 3",
   "language": "python",
   "name": "python3"
  },
  "language_info": {
   "codemirror_mode": {
    "name": "ipython",
    "version": 2
   },
   "file_extension": ".py",
   "mimetype": "text/x-python",
   "name": "python",
   "nbconvert_exporter": "python",
   "pygments_lexer": "ipython2",
   "version": "2.7.6"
  }
 },
 "nbformat": 4,
 "nbformat_minor": 0
}